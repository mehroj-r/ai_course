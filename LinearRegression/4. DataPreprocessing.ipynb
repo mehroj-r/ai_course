{
 "cells": [
  {
   "cell_type": "markdown",
   "metadata": {},
   "source": [
    "---\n",
    "## Data Pre-Processing\n",
    "\n",
    "- **Data Pre-Processing** is a way to train better models by manipulating the input data.\n",
    "- Pre-Processing doesn't always improve the model, it depends on the dataset if this technique fits it or not.\n",
    "- It has different techniques: Normalization, Standartization, etc."
   ]
  },
  {
   "cell_type": "code",
   "execution_count": 1,
   "metadata": {},
   "outputs": [],
   "source": [
    "import pandas as pd\n",
    "\n",
    "data = pd.read_csv(\"datasets/prostate_cancer.txt\")\n",
    "\n",
    "x = data.drop([\"id\", \"lpsa\", \"train\"], axis=1)\n",
    "y = data[\"lpsa\"]\n",
    "\n",
    "from sklearn.model_selection import train_test_split\n",
    "from sklearn.metrics import mean_absolute_error, mean_squared_error, r2_score\n",
    "\n",
    "x_train, x_test, y_train, y_test = train_test_split(x, y, test_size=0.2, random_state=42)"
   ]
  },
  {
   "cell_type": "markdown",
   "metadata": {},
   "source": [
    "---\n",
    "---\n",
    "## Normalization\n",
    "\n",
    "- Using __MinMaxScaler__ to normalize data inputs.\n",
    "- Matematical Formula: **x_scaled = (x-x_min)/(x_max-x_min)**"
   ]
  },
  {
   "cell_type": "code",
   "execution_count": 2,
   "metadata": {},
   "outputs": [],
   "source": [
    "from sklearn.preprocessing import MinMaxScaler\n",
    "\n",
    "scaler = MinMaxScaler()\n",
    "scaler.fit(x_train)\n",
    "\n",
    "x_train_scaled = scaler.transform(x_train)\n",
    "x_test_scaled = scaler.transform(x_test)"
   ]
  },
  {
   "cell_type": "code",
   "execution_count": 3,
   "metadata": {},
   "outputs": [
    {
     "name": "stdout",
     "output_type": "stream",
     "text": [
      "MSE: 0.3469917891761397\n",
      "MAS: 0.4278470015625614\n",
      "R^2: 0.7575175130204983\n"
     ]
    }
   ],
   "source": [
    "from sklearn.linear_model import LinearRegression\n",
    "\n",
    "model = LinearRegression()\n",
    "model.fit(x_train_scaled, y_train)\n",
    "\n",
    "y_pred = model.predict(x_test_scaled)\n",
    "\n",
    "mse = mean_squared_error(y_test, y_pred)\n",
    "mas = mean_absolute_error(y_test, y_pred)\n",
    "r2 = r2_score(y_test, y_pred)\n",
    "\n",
    "print(f\"MSE: {mse}\")\n",
    "print(f\"MAS: {mas}\")\n",
    "print(f\"R^2: {r2}\")"
   ]
  },
  {
   "cell_type": "code",
   "execution_count": 4,
   "metadata": {},
   "outputs": [
    {
     "name": "stdout",
     "output_type": "stream",
     "text": [
      "MSE: 0.7440678082142982\n",
      "MAS: 0.6026275820702806\n",
      "R^2: 0.48003549869128614\n"
     ]
    }
   ],
   "source": [
    "from sklearn.linear_model import Ridge\n",
    "\n",
    "ridge_model = Ridge(alpha=18.3) # HyperParameter Tuning - 'alpha'. Ranges -> 1, 10, 100, ...\n",
    "ridge_model.fit(x_train_scaled, y_train)\n",
    "\n",
    "y_pred = ridge_model.predict(x_test_scaled)\n",
    "\n",
    "mse = mean_squared_error(y_test, y_pred)\n",
    "mas = mean_absolute_error(y_test, y_pred)\n",
    "r2 = r2_score(y_test, y_pred)\n",
    "\n",
    "print(f\"MSE: {mse}\")\n",
    "print(f\"MAS: {mas}\")\n",
    "print(f\"R^2: {r2}\")"
   ]
  },
  {
   "cell_type": "code",
   "execution_count": 5,
   "metadata": {},
   "outputs": [
    {
     "name": "stdout",
     "output_type": "stream",
     "text": [
      "MSE: 0.41681329122746413\n",
      "MAS: 0.4791156410292423\n",
      "R^2: 0.7087253168067278\n"
     ]
    }
   ],
   "source": [
    "from sklearn.linear_model import Lasso\n",
    "\n",
    "lasso_model = Lasso(alpha=0.02) # HyperParameter Tuning - 'alpha'. Ranges -> 0.1, 0.2, 0.3, ...  \n",
    "lasso_model.fit(x_train_scaled, y_train)\n",
    "\n",
    "y_pred = lasso_model.predict(x_test_scaled)\n",
    "\n",
    "mse = mean_squared_error(y_test, y_pred)\n",
    "mas = mean_absolute_error(y_test, y_pred)\n",
    "r2 = r2_score(y_test, y_pred)\n",
    "\n",
    "print(f\"MSE: {mse}\")\n",
    "print(f\"MAS: {mas}\")\n",
    "print(f\"R^2: {r2}\")"
   ]
  },
  {
   "cell_type": "markdown",
   "metadata": {},
   "source": [
    "---\n",
    "## Results (R2 score):\n",
    "- **LinearRegression:**   0.7575175130204983\n",
    "- **Ridge(alpha=18):**    0.48003549869128614\n",
    "- **Lasso(alpha=0.02):**  0.7087253168067278"
   ]
  },
  {
   "cell_type": "markdown",
   "metadata": {},
   "source": [
    "---\n",
    "---\n",
    "## Standartization\n",
    "\n",
    "- Using __StandartScaler__ to startize data inputs.\n",
    "- Matematical Formula: **x_scaled = (x-x_mean)/(std)**"
   ]
  },
  {
   "cell_type": "code",
   "execution_count": 6,
   "metadata": {},
   "outputs": [],
   "source": [
    "from sklearn.preprocessing import StandardScaler\n",
    "\n",
    "scaler = StandardScaler()\n",
    "scaler.fit(x_train)\n",
    "\n",
    "x_train_scaled = scaler.transform(x_train)\n",
    "x_test_scaled = scaler.transform(x_test)"
   ]
  },
  {
   "cell_type": "code",
   "execution_count": 7,
   "metadata": {},
   "outputs": [
    {
     "name": "stdout",
     "output_type": "stream",
     "text": [
      "MSE: 0.34699178917613993\n",
      "MAS: 0.4278470015625612\n",
      "R^2: 0.7575175130204982\n"
     ]
    }
   ],
   "source": [
    "from sklearn.linear_model import LinearRegression\n",
    "\n",
    "model = LinearRegression()\n",
    "model.fit(x_train_scaled, y_train)\n",
    "\n",
    "y_pred = model.predict(x_test_scaled)\n",
    "\n",
    "mse = mean_squared_error(y_test, y_pred)\n",
    "mas = mean_absolute_error(y_test, y_pred)\n",
    "r2 = r2_score(y_test, y_pred)\n",
    "\n",
    "print(f\"MSE: {mse}\")\n",
    "print(f\"MAS: {mas}\")\n",
    "print(f\"R^2: {r2}\")"
   ]
  },
  {
   "cell_type": "code",
   "execution_count": 8,
   "metadata": {},
   "outputs": [
    {
     "name": "stdout",
     "output_type": "stream",
     "text": [
      "MSE: 0.3685483742447039\n",
      "MAS: 0.43985953784830245\n",
      "R^2: 0.7424534840686281\n"
     ]
    }
   ],
   "source": [
    "from sklearn.linear_model import Ridge\n",
    "\n",
    "ridge_model = Ridge(alpha=18) # HyperParameter Tuning - 'alpha'. Ranges -> 1, 10, 100, ...\n",
    "ridge_model.fit(x_train_scaled, y_train)\n",
    "\n",
    "y_pred = ridge_model.predict(x_test_scaled)\n",
    "\n",
    "mse = mean_squared_error(y_test, y_pred)\n",
    "mas = mean_absolute_error(y_test, y_pred)\n",
    "r2 = r2_score(y_test, y_pred)\n",
    "\n",
    "print(f\"MSE: {mse}\")\n",
    "print(f\"MAS: {mas}\")\n",
    "print(f\"R^2: {r2}\")"
   ]
  },
  {
   "cell_type": "code",
   "execution_count": 9,
   "metadata": {},
   "outputs": [
    {
     "name": "stdout",
     "output_type": "stream",
     "text": [
      "MSE: 0.35185138962764706\n",
      "MAS: 0.4303792864209458\n",
      "R^2: 0.7541215594562771\n"
     ]
    }
   ],
   "source": [
    "from sklearn.linear_model import Lasso\n",
    "\n",
    "lasso_model = Lasso(alpha=0.02) # HyperParameter Tuning - 'alpha'. Ranges -> 0.1, 0.2, 0.3, ...  \n",
    "lasso_model.fit(x_train_scaled, y_train)\n",
    "\n",
    "y_pred = lasso_model.predict(x_test_scaled)\n",
    "\n",
    "mse = mean_squared_error(y_test, y_pred)\n",
    "mas = mean_absolute_error(y_test, y_pred)\n",
    "r2 = r2_score(y_test, y_pred)\n",
    "\n",
    "print(f\"MSE: {mse}\")\n",
    "print(f\"MAS: {mas}\")\n",
    "print(f\"R^2: {r2}\")"
   ]
  },
  {
   "cell_type": "markdown",
   "metadata": {},
   "source": [
    "---\n",
    "## Results (R2 score):\n",
    "- **LinearRegression:**   0.7575175130204982\n",
    "- **Ridge(alpha=18):**    0.7424534840686281\n",
    "- **Lasso(alpha=0.02):**  0.7541215594562771"
   ]
  }
 ],
 "metadata": {
  "kernelspec": {
   "display_name": ".venv",
   "language": "python",
   "name": "python3"
  },
  "language_info": {
   "codemirror_mode": {
    "name": "ipython",
    "version": 3
   },
   "file_extension": ".py",
   "mimetype": "text/x-python",
   "name": "python",
   "nbconvert_exporter": "python",
   "pygments_lexer": "ipython3",
   "version": "3.13.0"
  }
 },
 "nbformat": 4,
 "nbformat_minor": 2
}
