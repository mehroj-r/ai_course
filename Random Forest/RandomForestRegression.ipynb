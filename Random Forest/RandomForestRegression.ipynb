{
 "cells": [
  {
   "cell_type": "code",
   "execution_count": 1,
   "metadata": {},
   "outputs": [
    {
     "name": "stdout",
     "output_type": "stream",
     "text": [
      "MSE:  15.649821542808082\n",
      "MAE:  2.515428921809782\n",
      "R2: 0.7367612717883111\n"
     ]
    }
   ],
   "source": [
    "import pandas as pd\n",
    "\n",
    "data = pd.read_csv('datasets/boston_housing.csv')\n",
    "data\n",
    "from sklearn.model_selection import train_test_split\n",
    "\n",
    "x = data.drop('MEDV', axis=1)\n",
    "y = data['MEDV']\n",
    "\n",
    "x_train, x_test, y_train, y_test = train_test_split(x,y, test_size=0.25, random_state=0)\n",
    "from sklearn.ensemble import RandomForestRegressor\n",
    "\n",
    "model = RandomForestRegressor(n_estimators=200 ,max_depth=14, criterion='squared_error', random_state=69)\n",
    "model.fit(x_train, y_train)\n",
    "\n",
    "y_pred = model.predict(x_test)\n",
    "\n",
    "from sklearn.metrics import mean_squared_error, mean_absolute_error, r2_score\n",
    "\n",
    "mse = mean_squared_error(y_pred, y_test)\n",
    "mae = mean_absolute_error(y_pred, y_test)\n",
    "r2 = r2_score(y_pred,y_test)\n",
    "\n",
    "print(\"MSE: \", mse)\n",
    "print(\"MAE: \", mae)\n",
    "print(\"R2:\", r2)"
   ]
  },
  {
   "cell_type": "markdown",
   "metadata": {},
   "source": [
    "---\n",
    "## RandomForestRegressor()\n",
    "\n",
    "**config:** n_estimators=200 ,max_depth=14, criterion='squared_error', random_state=69\n",
    "\n",
    "**MSE:**  15.649821542808082  \n",
    "**MAE:**  2.515428921809782  \n",
    "**R2:** 0.7367612717883111\n",
    "\n",
    "---\n",
    "\n",
    "## LinearRegression()\n",
    "\n",
    "**MSE:** 18.60219336052116  \n",
    "**MAS:** 3.081985413223105  \n",
    "**R^2:** 0.715995216261967\n",
    "\n",
    "---"
   ]
  },
  {
   "cell_type": "markdown",
   "metadata": {},
   "source": []
  }
 ],
 "metadata": {
  "kernelspec": {
   "display_name": ".venv",
   "language": "python",
   "name": "python3"
  },
  "language_info": {
   "codemirror_mode": {
    "name": "ipython",
    "version": 3
   },
   "file_extension": ".py",
   "mimetype": "text/x-python",
   "name": "python",
   "nbconvert_exporter": "python",
   "pygments_lexer": "ipython3",
   "version": "3.13.0"
  }
 },
 "nbformat": 4,
 "nbformat_minor": 2
}
